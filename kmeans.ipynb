{
 "cells": [
  {
   "cell_type": "code",
   "execution_count": 1,
   "metadata": {
    "collapsed": true
   },
   "outputs": [],
   "source": [
    "import pandas as pd\n",
    "import sklearn\n",
    "import matplotlib.pyplot as plt\n",
    "import numpy as np\n",
    "import geoplotlib\n",
    "import pyglet\n",
    "from sklearn.linear_model import LinearRegression\n",
    "from sklearn.neighbors import KNeighborsClassifier as knn\n",
    "from sklearn.cross_validation import train_test_split\n",
    "import sklearn.preprocessing as skp\n",
    "\n",
    "%matplotlib inline\n",
    "plt.rcParams['figure.figsize'] = (15.0, 10.0)\n",
    "\n",
    "# As we will process pandas DataFrames, we want a nice and short overview of the data.\n",
    "# Let's set the maximum number of lines to 10.\n",
    "\n",
    "pd.set_option(\"display.max_rows\",10)"
   ]
  },
  {
   "cell_type": "code",
   "execution_count": 2,
   "metadata": {
    "collapsed": true
   },
   "outputs": [],
   "source": [
    "from sklearn.tree import DecisionTreeClassifier\n",
    "from sklearn.preprocessing import LabelBinarizer\n",
    "from sklearn.cluster import KMeans"
   ]
  },
  {
   "cell_type": "code",
   "execution_count": 3,
   "metadata": {
    "collapsed": false
   },
   "outputs": [],
   "source": [
    "# Getting the data as a pandas structure\n",
    "# We downloaded the file in the same folder as the Jupyter Notebook\n",
    "filename = 'SFPD_Incidents_-_from_1_January_2003.csv'\n",
    "\n",
    "crimes = pd.read_csv(filename)"
   ]
  },
  {
   "cell_type": "code",
   "execution_count": 4,
   "metadata": {
    "collapsed": true
   },
   "outputs": [],
   "source": [
    "# Only take observations that are prostitution crimes\n",
    "focus_crimes = set(['PROSTITUTION'])\n",
    "data = crimes[crimes.Category.isin(focus_crimes)]\n",
    "data = data[['X', 'Y']]\n",
    "data.columns = ['lon', 'lat']\n",
    "data = data[data['lat']<40] # Remove outliers"
   ]
  },
  {
   "cell_type": "code",
   "execution_count": 5,
   "metadata": {
    "collapsed": false,
    "scrolled": true
   },
   "outputs": [],
   "source": [
    "ncluster = [2,3,4,5,6]\n",
    "for n in ncluster:\n",
    "    kmeans = KMeans(n_clusters=n, random_state=1).fit(data)\n",
    "    data['cluster'] = kmeans.labels_\n",
    "    \n",
    "    centers = pd.DataFrame(kmeans.cluster_centers_[:,(0,1)])\n",
    "    centers.columns = ['lon','lat']\n",
    "    centers['cluster'] = -1\n",
    "    \n",
    "    datacsv = data.append(centers)\n",
    "    datacsv.to_csv(\"kmeans\"+str(n)+\".csv\", index=False)\n"
   ]
  },
  {
   "cell_type": "code",
   "execution_count": 6,
   "metadata": {
    "collapsed": false
   },
   "outputs": [
    {
     "data": {
      "text/html": [
       "<div>\n",
       "<table border=\"1\" class=\"dataframe\">\n",
       "  <thead>\n",
       "    <tr style=\"text-align: right;\">\n",
       "      <th></th>\n",
       "      <th>lon</th>\n",
       "      <th>lat</th>\n",
       "      <th>cluster</th>\n",
       "    </tr>\n",
       "  </thead>\n",
       "  <tbody>\n",
       "    <tr>\n",
       "      <th>3639</th>\n",
       "      <td>-122.466205</td>\n",
       "      <td>37.772541</td>\n",
       "      <td>3</td>\n",
       "    </tr>\n",
       "    <tr>\n",
       "      <th>5423</th>\n",
       "      <td>-122.403405</td>\n",
       "      <td>37.775421</td>\n",
       "      <td>2</td>\n",
       "    </tr>\n",
       "    <tr>\n",
       "      <th>6863</th>\n",
       "      <td>-122.409661</td>\n",
       "      <td>37.786439</td>\n",
       "      <td>2</td>\n",
       "    </tr>\n",
       "    <tr>\n",
       "      <th>7561</th>\n",
       "      <td>-122.417956</td>\n",
       "      <td>37.757880</td>\n",
       "      <td>0</td>\n",
       "    </tr>\n",
       "    <tr>\n",
       "      <th>8693</th>\n",
       "      <td>-122.410700</td>\n",
       "      <td>37.786988</td>\n",
       "      <td>2</td>\n",
       "    </tr>\n",
       "    <tr>\n",
       "      <th>...</th>\n",
       "      <td>...</td>\n",
       "      <td>...</td>\n",
       "      <td>...</td>\n",
       "    </tr>\n",
       "    <tr>\n",
       "      <th>1</th>\n",
       "      <td>-122.418626</td>\n",
       "      <td>37.787621</td>\n",
       "      <td>-1</td>\n",
       "    </tr>\n",
       "    <tr>\n",
       "      <th>2</th>\n",
       "      <td>-122.404666</td>\n",
       "      <td>37.785684</td>\n",
       "      <td>-1</td>\n",
       "    </tr>\n",
       "    <tr>\n",
       "      <th>3</th>\n",
       "      <td>-122.488401</td>\n",
       "      <td>37.755878</td>\n",
       "      <td>-1</td>\n",
       "    </tr>\n",
       "    <tr>\n",
       "      <th>4</th>\n",
       "      <td>-122.469113</td>\n",
       "      <td>37.719136</td>\n",
       "      <td>-1</td>\n",
       "    </tr>\n",
       "    <tr>\n",
       "      <th>5</th>\n",
       "      <td>-122.453576</td>\n",
       "      <td>37.788694</td>\n",
       "      <td>-1</td>\n",
       "    </tr>\n",
       "  </tbody>\n",
       "</table>\n",
       "<p>16168 rows × 3 columns</p>\n",
       "</div>"
      ],
      "text/plain": [
       "             lon        lat  cluster\n",
       "3639 -122.466205  37.772541        3\n",
       "5423 -122.403405  37.775421        2\n",
       "6863 -122.409661  37.786439        2\n",
       "7561 -122.417956  37.757880        0\n",
       "8693 -122.410700  37.786988        2\n",
       "...          ...        ...      ...\n",
       "1    -122.418626  37.787621       -1\n",
       "2    -122.404666  37.785684       -1\n",
       "3    -122.488401  37.755878       -1\n",
       "4    -122.469113  37.719136       -1\n",
       "5    -122.453576  37.788694       -1\n",
       "\n",
       "[16168 rows x 3 columns]"
      ]
     },
     "execution_count": 6,
     "metadata": {},
     "output_type": "execute_result"
    }
   ],
   "source": [
    "centers\n",
    "datacsv"
   ]
  }
 ],
 "metadata": {
  "anaconda-cloud": {},
  "kernelspec": {
   "display_name": "Python [conda env:py27]",
   "language": "python",
   "name": "conda-env-py27-py"
  },
  "language_info": {
   "codemirror_mode": {
    "name": "ipython",
    "version": 2
   },
   "file_extension": ".py",
   "mimetype": "text/x-python",
   "name": "python",
   "nbconvert_exporter": "python",
   "pygments_lexer": "ipython2",
   "version": "2.7.12"
  }
 },
 "nbformat": 4,
 "nbformat_minor": 2
}
